{
 "cells": [
  {
   "cell_type": "code",
   "execution_count": 5,
   "id": "5ed10d42-8aab-44fe-b6ce-20084038f0d7",
   "metadata": {},
   "outputs": [
    {
     "name": "stdout",
     "output_type": "stream",
     "text": [
      "[('Virat Kohli', 24936), ('Jack Kallis', 25534), ('Ricky Ponting', 27483), ('Sachin Tendulkar', 34357)]\n"
     ]
    }
   ],
   "source": [
    "\"\"\"Create a python program to sort the given list of tuples based on integer value using a\n",
    "lambda function.\n",
    "[('Sachin Tendulkar', 34357), ('Ricky Ponting', 27483), ('Jack Kallis', 25534), ('Virat Kohli', 24936)]\n",
    "# Sample list of tuples\"\"\"\n",
    "players = [\n",
    "    ('Sachin Tendulkar', 34357),\n",
    "    ('Ricky Ponting', 27483),\n",
    "    ('Jack Kallis', 25534),\n",
    "    ('Virat Kohli', 24936)\n",
    "]\n",
    "\n",
    "# Sorting the list of tuples based on the second element (integer value) using a lambda function\n",
    "sorted_players = sorted(players, key=lambda x: x[1])\n",
    "\n",
    "# Print the sorted list\n",
    "print(sorted_players)\n"
   ]
  },
  {
   "cell_type": "code",
   "execution_count": 7,
   "id": "5a8624c4-6950-4b44-bf6a-d479822655ee",
   "metadata": {},
   "outputs": [
    {
     "name": "stdout",
     "output_type": "stream",
     "text": [
      "[1, 4, 9, 16, 25, 36, 49, 64, 81, 100]\n"
     ]
    }
   ],
   "source": [
    "#Write a Python Program to find the squares of all the numbers in the given list of integers using\n",
    "#lambda and map functions.\n",
    "#[1, 2, 3, 4, 5, 6, 7, 8, 9, 10]\n",
    "# Sample list of integers\n",
    "numbers = [1, 2, 3, 4, 5, 6, 7, 8, 9, 10]\n",
    "\n",
    "# Using map() and lambda to find the squares of all numbers in the list\n",
    "squares = list(map(lambda x: x**2, numbers))\n",
    "\n",
    "# Print the list of squares\n",
    "print(squares)\n"
   ]
  },
  {
   "cell_type": "code",
   "execution_count": 9,
   "id": "970967bd-7e1a-4947-8444-9bdf0712457c",
   "metadata": {},
   "outputs": [
    {
     "name": "stdout",
     "output_type": "stream",
     "text": [
      "('1', '2', '3', '4', '5', '6', '7', '8', '9', '10')\n"
     ]
    }
   ],
   "source": [
    "\"\"\"Write a python program to convert the given list of integers into a tuple of strings. Use map and\n",
    "lambda functions\n",
    "Given String: [1, 2, 3, 4, 5, 6, 7, 8, 9, 10]\n",
    "Expected output: ('1', '2', '3', '4', '5', '6', '7', '8', '9', '10')\"\"\"\n",
    "# Sample list of integers\n",
    "numbers = [1, 2, 3, 4, 5, 6, 7, 8, 9, 10]\n",
    "\n",
    "# Using map() and lambda to convert each integer to a string\n",
    "string_tuple = tuple(map(lambda x: str(x), numbers))\n",
    "\n",
    "# Print the tuple of strings\n",
    "print(string_tuple)\n"
   ]
  },
  {
   "cell_type": "code",
   "execution_count": 11,
   "id": "9641bd3f-8c12-483a-8520-f3d05c765772",
   "metadata": {},
   "outputs": [
    {
     "name": "stdout",
     "output_type": "stream",
     "text": [
      "15511210043330985984000000\n"
     ]
    }
   ],
   "source": [
    "\"\"\"Write a python program using reduce function to compute the product of a list containing numbers\n",
    "from 1 to 25.\"\"\"\n",
    "from functools import reduce\n",
    "\n",
    "# List of numbers from 1 to 25\n",
    "numbers = list(range(1, 26))\n",
    "\n",
    "# Using reduce() to compute the product of all numbers in the list\n",
    "product = reduce(lambda x, y: x * y, numbers)\n",
    "\n",
    "# Print the product\n",
    "print(product)\n"
   ]
  },
  {
   "cell_type": "code",
   "execution_count": 13,
   "id": "5291d1f9-a0fb-4980-b8a7-f4d7ea9875ae",
   "metadata": {},
   "outputs": [
    {
     "name": "stdout",
     "output_type": "stream",
     "text": [
      "[6, 60, 90, 120]\n"
     ]
    }
   ],
   "source": [
    "\"\"\"Write a python program to filter the numbers in a given list that are divisible by 2 and 3 using the\n",
    "filter function.\n",
    "[2, 3, 6, 9, 27, 60, 90, 120, 55, 46]\"\"\"\n",
    "# Sample list of integers\n",
    "numbers = [2, 3, 6, 9, 27, 60, 90, 120, 55, 46]\n",
    "\n",
    "# Using filter() to select numbers divisible by both 2 and 3\n",
    "filtered_numbers = list(filter(lambda x: x % 2 == 0 and x % 3 == 0, numbers))\n",
    "\n",
    "# Print the filtered list\n",
    "print(filtered_numbers)\n"
   ]
  },
  {
   "cell_type": "code",
   "execution_count": 15,
   "id": "21b4acd9-0fc0-4168-89dc-f8fc5ef52538",
   "metadata": {},
   "outputs": [
    {
     "name": "stdout",
     "output_type": "stream",
     "text": [
      "['php', 'aba', 'radar', 'level']\n"
     ]
    }
   ],
   "source": [
    "\"\"\"Write a python program to find palindromes in the given list of strings using lambda and filter\n",
    "function.\n",
    "['python', 'php', 'aba', 'radar', 'level']\"\"\"\n",
    "# Sample list of strings\n",
    "words = ['python', 'php', 'aba', 'radar', 'level']\n",
    "\n",
    "# Using filter() to find palindromes in the list\n",
    "palindromes = list(filter(lambda x: x == x[::-1], words))\n",
    "\n",
    "# Print the list of palindromes\n",
    "print(palindromes)\n"
   ]
  },
  {
   "cell_type": "code",
   "execution_count": null,
   "id": "1e3e2821-4170-4fac-9f75-dca5f708e95e",
   "metadata": {},
   "outputs": [],
   "source": []
  }
 ],
 "metadata": {
  "kernelspec": {
   "display_name": "Python 3 (ipykernel)",
   "language": "python",
   "name": "python3"
  },
  "language_info": {
   "codemirror_mode": {
    "name": "ipython",
    "version": 3
   },
   "file_extension": ".py",
   "mimetype": "text/x-python",
   "name": "python",
   "nbconvert_exporter": "python",
   "pygments_lexer": "ipython3",
   "version": "3.12.4"
  }
 },
 "nbformat": 4,
 "nbformat_minor": 5
}
